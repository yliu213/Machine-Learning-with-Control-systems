{
 "cells": [
  {
   "cell_type": "code",
   "execution_count": 1,
   "id": "2c26d261-f542-43e8-b233-e7834fdeabb9",
   "metadata": {},
   "outputs": [],
   "source": [
    "import scipy.io\n",
    "import torch\n",
    "import sys\n",
    "import os\n",
    "import torch.nn as nn\n",
    "import torch.optim as optim\n",
    "from sklearn.model_selection import train_test_split"
   ]
  },
  {
   "cell_type": "code",
   "execution_count": 2,
   "id": "16394a4d-8e86-4a34-a756-441edffadf4d",
   "metadata": {},
   "outputs": [
    {
     "name": "stdout",
     "output_type": "stream",
     "text": [
      "MAT file loaded successfully.\n"
     ]
    }
   ],
   "source": [
    "mat_folder_path = 'C:\\\\Users\\\\ai\\\\Desktop\\\\RA 2023\\\\RNN'\n",
    "mat_file_name = 'dyn4g.mat'\n",
    "\n",
    "# Check if the folder path exists\n",
    "if not os.path.exists(mat_folder_path):\n",
    "    print(\"Folder path does not exist.\")\n",
    "else:\n",
    "    # Construct the full path to the .mat file\n",
    "    mat_file_path = os.path.join(mat_folder_path, mat_file_name)\n",
    "    \n",
    "    # Check if the file exists\n",
    "    if not os.path.exists(mat_file_path):\n",
    "        print(\"MAT file does not exist in the specified folder.\")\n",
    "    else:\n",
    "        # Load the .mat file\n",
    "        mat_data = scipy.io.loadmat(mat_file_path)\n",
    "        print(\"MAT file loaded successfully.\")\n"
   ]
  },
  {
   "cell_type": "code",
   "execution_count": 3,
   "id": "5ab6d679-23b8-4873-a9d4-125f47592837",
   "metadata": {},
   "outputs": [],
   "source": [
    "train_feature = mat_data['train_feature']   \n",
    "train_target = mat_data['train_target']   \n",
    "test_feature = mat_data['test_feature']   \n",
    "test_target = mat_data['test_target'] "
   ]
  },
  {
   "cell_type": "code",
   "execution_count": 4,
   "id": "e9e30f9d-2d12-4905-865a-f63efb687b87",
   "metadata": {},
   "outputs": [],
   "source": [
    "# Convert the numpy arrays to PyTorch tensors\n",
    "train_features_tensor = torch.tensor(train_feature, dtype=torch.float32)\n",
    "train_target_tensor = torch.tensor(train_target, dtype=torch.float32)\n",
    "test_features_tensor = torch.tensor(test_feature, dtype=torch.float32)\n",
    "test_target_tensor = torch.tensor(test_target, dtype=torch.float32)"
   ]
  },
  {
   "cell_type": "code",
   "execution_count": 5,
   "id": "93873167-88ee-4017-99bb-78cd6b2ec64e",
   "metadata": {},
   "outputs": [],
   "source": [
    "mean = train_features_tensor.mean(dim=0)\n",
    "std = train_features_tensor.std(dim=0)\n",
    "mean1 = test_features_tensor.mean(dim=0)\n",
    "std1 = test_features_tensor.std(dim=0)\n",
    "# Apply z-score normalization to features_tensor\n",
    "train_features_tensor = (train_features_tensor - mean) / std\n",
    "test_features_tensor = (test_features_tensor - mean1) / std1"
   ]
  },
  {
   "cell_type": "code",
   "execution_count": 6,
   "id": "964c20f6-f708-4fee-8328-fc0b849a76fc",
   "metadata": {},
   "outputs": [
    {
     "data": {
      "text/plain": [
       "torch.Size([42001, 4])"
      ]
     },
     "execution_count": 6,
     "metadata": {},
     "output_type": "execute_result"
    }
   ],
   "source": [
    "train_target_tensor.shape"
   ]
  },
  {
   "cell_type": "code",
   "execution_count": 7,
   "id": "806e3885-1664-4815-8810-fb3f502dae72",
   "metadata": {},
   "outputs": [],
   "source": [
    "class LSTMRegressionModel(nn.Module):\n",
    "    def __init__(self, input_size, hidden_size, num_layers, output_size):\n",
    "        super(LSTMRegressionModel, self).__init__()\n",
    "        self.hidden_size = hidden_size\n",
    "        self.num_layers = num_layers\n",
    "        \n",
    "        self.lstm = nn.LSTM(input_size, hidden_size, num_layers, batch_first=True)\n",
    "        self.fc = nn.Linear(hidden_size, output_size)\n",
    "    \n",
    "    def forward(self, x):\n",
    "        batch_size = x.size(0)\n",
    "        h0 = torch.zeros(self.num_layers, batch_size, self.hidden_size).to(x.device)\n",
    "        c0 = torch.zeros(self.num_layers, batch_size, self.hidden_size).to(x.device)\n",
    "        \n",
    "        out, _ = self.lstm(x, (h0, c0))\n",
    "        out = self.fc(out)  # Output for each time step\n",
    "        \n",
    "        return out"
   ]
  },
  {
   "cell_type": "code",
   "execution_count": 8,
   "id": "707da79b-7b7f-409c-a2b0-c43ecaf4dac3",
   "metadata": {},
   "outputs": [
    {
     "name": "stdout",
     "output_type": "stream",
     "text": [
      "Epoch [100/1000], Loss: 1.2519\n",
      "Epoch [200/1000], Loss: 1.1424\n",
      "Epoch [300/1000], Loss: 1.1055\n",
      "Epoch [400/1000], Loss: 1.0776\n",
      "Epoch [500/1000], Loss: 1.0517\n",
      "Epoch [600/1000], Loss: 1.0315\n",
      "Epoch [700/1000], Loss: 1.0151\n",
      "Epoch [800/1000], Loss: 0.9996\n",
      "Epoch [900/1000], Loss: 0.9831\n",
      "Epoch [1000/1000], Loss: 0.9688\n",
      "Predicted:\n",
      "tensor([[3.0302, 3.9167, 2.1418, 4.4097]])\n",
      "Actual:\n",
      "tensor([[2.9583, 3.8903, 2.5790, 4.7971]])\n"
     ]
    }
   ],
   "source": [
    "# Hyperparameters\n",
    "input_size = 4  # Number of features\n",
    "hidden_size = 64\n",
    "num_layers = 2\n",
    "output_size = 4  # Regression output (4 targets)\n",
    "\n",
    "# Reshape features and targets to (batch_size, sequence_length, input_size) format\n",
    "sequence_length = train_features_tensor.size(1)\n",
    "train_features_tensor = train_features_tensor.unsqueeze(0)  # Add batch dimension\n",
    "train_target_tensor = train_target_tensor.unsqueeze(0)  # Add batch dimension\n",
    "\n",
    "# Create the model\n",
    "model = LSTMRegressionModel(input_size, hidden_size, num_layers, output_size)\n",
    "\n",
    "# Loss and optimizer\n",
    "criterion = nn.MSELoss()  # Mean Squared Error loss for regression\n",
    "optimizer = optim.Adam(model.parameters(), lr=0.001)\n",
    "\n",
    "# Training loop\n",
    "num_epochs = 1000\n",
    "for epoch in range(num_epochs):\n",
    "    optimizer.zero_grad()\n",
    "    outputs = model(train_features_tensor)\n",
    "    loss = torch.sqrt(criterion(outputs, train_target_tensor))   # RMSE\n",
    "    loss.backward()\n",
    "    optimizer.step()\n",
    "    \n",
    "    if (epoch+1) % 100 == 0:\n",
    "        print(f'Epoch [{epoch+1}/{num_epochs}], Loss: {loss.item():.4f}')\n",
    "\n",
    "# Make predictions\n",
    "with torch.no_grad():\n",
    "    predicted = model(train_features_tensor)\n",
    "\n",
    "# Print some predictions\n",
    "print(\"Predicted:\")\n",
    "print(predicted[:, -1, :])  # Print predictions for the last time step\n",
    "print(\"Actual:\")\n",
    "print(train_target_tensor[:, -1, :])  # Print actual targets for the last time step"
   ]
  },
  {
   "cell_type": "code",
   "execution_count": 9,
   "id": "952ce115-9250-473b-9445-ed1ef07e0d3d",
   "metadata": {},
   "outputs": [
    {
     "name": "stdout",
     "output_type": "stream",
     "text": [
      "Testing Loss: 1.0663\n"
     ]
    }
   ],
   "source": [
    "# Convert the test features tensor and target tensor to the required shape (batch_size, sequence_length, input_size)\n",
    "test_features_tensor = test_features_tensor.unsqueeze(0)  # Add batch dimension\n",
    "test_target_tensor = test_target_tensor.unsqueeze(0)      # Add batch dimension\n",
    "\n",
    "# Make predictions on the test data\n",
    "with torch.no_grad():\n",
    "    test_predictions = model(test_features_tensor)\n",
    "\n",
    "# Calculate the testing loss\n",
    "test_loss = torch.sqrt(nn.MSELoss()(test_predictions, test_target_tensor))\n",
    "print(f\"Testing Loss: {test_loss.item():.4f}\")"
   ]
  },
  {
   "cell_type": "code",
   "execution_count": null,
   "id": "84ba25e4-4cdd-4494-a95c-a3539b2895ea",
   "metadata": {},
   "outputs": [],
   "source": []
  }
 ],
 "metadata": {
  "kernelspec": {
   "display_name": "Python 3 (ipykernel)",
   "language": "python",
   "name": "python3"
  },
  "language_info": {
   "codemirror_mode": {
    "name": "ipython",
    "version": 3
   },
   "file_extension": ".py",
   "mimetype": "text/x-python",
   "name": "python",
   "nbconvert_exporter": "python",
   "pygments_lexer": "ipython3",
   "version": "3.11.3"
  }
 },
 "nbformat": 4,
 "nbformat_minor": 5
}
